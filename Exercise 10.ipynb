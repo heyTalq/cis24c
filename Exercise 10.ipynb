{
 "cells": [
  {
   "cell_type": "code",
   "execution_count": 6,
   "metadata": {},
   "outputs": [
    {
     "name": "stdout",
     "output_type": "stream",
     "text": [
      "Overwriting add.py\n"
     ]
    }
   ],
   "source": [
    "%%writefile add.py \n",
    "\n",
    "import sys\n",
    "\n",
    "print(sys.argv)\n",
    "\n",
    "number1 = int(sys.argv[1])\n",
    "number2 = int(sys.argv[2])\n",
    "\n",
    "result = number1 + number2\n",
    "print(\"Result\" ,result)"
   ]
  },
  {
   "cell_type": "code",
   "execution_count": 7,
   "metadata": {},
   "outputs": [
    {
     "name": "stdout",
     "output_type": "stream",
     "text": [
      "['add.py', '2', '3']\r\n",
      "Result 5\r\n"
     ]
    }
   ],
   "source": [
    "!python add.py 2 3"
   ]
  },
  {
   "cell_type": "code",
   "execution_count": 8,
   "metadata": {},
   "outputs": [
    {
     "name": "stdout",
     "output_type": "stream",
     "text": [
      "Exam 1 notebook.ipynb  \u001b[34m__pycache__\u001b[m\u001b[m/           hw5.ipynb\r\n",
      "Excerise 7.ipynb       add.py                 hw6.ipynb\r\n",
      "Exercise  6.ipynb      aliceinwonder.txt      hw7.ipynb\r\n",
      "Exercise 1.ipynb       exercise 3.ipynb       hw8.ipynb\r\n",
      "Exercise 10.ipynb      exercise 5.ipynb       hw9.ipynb\r\n",
      "Exercise 2.ipynb       helperfunctions.py     movies.csv\r\n",
      "Exercise 4.ipynb       hw1.ipynb              myFile.txt\r\n",
      "Exercise 8.ipynb       hw2.ipynb              mylibrary.py\r\n",
      "Exercise 9 .ipynb      hw3.ipynb              scores.txt\r\n",
      "Test.ipynb             hw4.ipynb\r\n"
     ]
    }
   ],
   "source": [
    "ls\n"
   ]
  },
  {
   "cell_type": "code",
   "execution_count": 12,
   "metadata": {},
   "outputs": [
    {
     "name": "stdout",
     "output_type": "stream",
     "text": [
      "[Errno 2] No such file or directory: '__pycache__/'\n",
      "/Users/Tiger/cis24c/__pycache__\n"
     ]
    }
   ],
   "source": [
    "cd __pycache__/\n"
   ]
  },
  {
   "cell_type": "code",
   "execution_count": 13,
   "metadata": {},
   "outputs": [
    {
     "name": "stdout",
     "output_type": "stream",
     "text": [
      "helperfunctions.cpython-36.pyc  mylibrary.cpython-36.pyc\r\n"
     ]
    }
   ],
   "source": [
    "ls\n"
   ]
  },
  {
   "cell_type": "code",
   "execution_count": 14,
   "metadata": {},
   "outputs": [
    {
     "data": {
      "text/plain": [
       "'/Users/Tiger/cis24c/__pycache__'"
      ]
     },
     "execution_count": 14,
     "metadata": {},
     "output_type": "execute_result"
    }
   ],
   "source": [
    "pwd"
   ]
  },
  {
   "cell_type": "code",
   "execution_count": 15,
   "metadata": {},
   "outputs": [
    {
     "name": "stdout",
     "output_type": "stream",
     "text": [
      "/Users/Tiger/cis24c/__pycache__\r\n"
     ]
    }
   ],
   "source": [
    "!pwd"
   ]
  },
  {
   "cell_type": "code",
   "execution_count": 31,
   "metadata": {},
   "outputs": [
    {
     "name": "stdout",
     "output_type": "stream",
     "text": [
      "Overwriting argparsetest.py\n"
     ]
    }
   ],
   "source": [
    "%%writefile argparsetest.py\n",
    "\n",
    "import argparse\n",
    "\n",
    "parser = argparse.ArgumentParser()\n",
    "\n",
    "parser.add_argument(\"--username\", help = \"echo the string you provide here: \")\n",
    "parser.add_argument(\"--age\", help = \"echo the string you provide here: \")\n",
    "parser.add_argument(\"--userid\", help = \"echo the string you provide here: \")\n",
    "parser.add_argument(\"--gender\", help = \"echo the string you provide here: \")\n",
    "args = parser.parse_args()\n",
    "\n",
    "print(args.username)\n",
    "print(args.age)"
   ]
  },
  {
   "cell_type": "code",
   "execution_count": 22,
   "metadata": {},
   "outputs": [
    {
     "name": "stdout",
     "output_type": "stream",
     "text": [
      "hello\r\n"
     ]
    }
   ],
   "source": [
    "\n",
    "!python argparsetest.py hello"
   ]
  },
  {
   "cell_type": "code",
   "execution_count": 27,
   "metadata": {},
   "outputs": [
    {
     "name": "stdout",
     "output_type": "stream",
     "text": [
      "usage: argparsetest.py [-h] [--username USERNAME] [--age AGE]\r\n",
      "                       [--userid USERID] [--gender GENDER]\r\n",
      "\r\n",
      "optional arguments:\r\n",
      "  -h, --help           show this help message and exit\r\n",
      "  --username USERNAME  echo the string you provide here:\r\n",
      "  --age AGE            echo the string you provide here:\r\n",
      "  --userid USERID      echo the string you provide here:\r\n",
      "  --gender GENDER      echo the string you provide here:\r\n"
     ]
    }
   ],
   "source": [
    "!python argparsetest.py --help"
   ]
  },
  {
   "cell_type": "code",
   "execution_count": 32,
   "metadata": {},
   "outputs": [
    {
     "name": "stdout",
     "output_type": "stream",
     "text": [
      "Harry\r\n",
      "14\r\n"
     ]
    }
   ],
   "source": [
    "!python argparsetest.py --username Harry --age 14 "
   ]
  },
  {
   "cell_type": "code",
   "execution_count": 37,
   "metadata": {},
   "outputs": [
    {
     "name": "stdout",
     "output_type": "stream",
     "text": [
      "Overwriting calulator.py\n"
     ]
    }
   ],
   "source": [
    "%%writefile calulator.py\n",
    "\n",
    "import argparse\n",
    "\n",
    "parser = argparse.ArgumentParser()\n",
    "\n",
    "parser.add_argument(\"--cmd\", help = \"enter command (add,subtract, multiply: \")\n",
    "parser.add_argument(\"--num1\", help = \"enter num 1: \")\n",
    "parser.add_argument(\"--num2\", help = \"enter num 2: \")\n",
    "\n",
    "args = parser.parse_args()\n",
    "\n",
    "if args.cmd == \"add\":\n",
    "    result = args.num1 + args.num2\n",
    "elif args.cmd == \"subtract\":\n",
    "    result = args.num1 - args.num2\n",
    "else:\n",
    "    result = None \n",
    "    print(\"Invalid cmd\")\n",
    "    \n",
    "print(result)\n"
   ]
  },
  {
   "cell_type": "code",
   "execution_count": 38,
   "metadata": {},
   "outputs": [
    {
     "name": "stdout",
     "output_type": "stream",
     "text": [
      "93\r\n"
     ]
    }
   ],
   "source": [
    "!python calulator.py --cmd \"add\" --num1 9 --num2 3"
   ]
  },
  {
   "cell_type": "code",
   "execution_count": null,
   "metadata": {},
   "outputs": [],
   "source": []
  }
 ],
 "metadata": {
  "kernelspec": {
   "display_name": "Python 3",
   "language": "python",
   "name": "python3"
  },
  "language_info": {
   "codemirror_mode": {
    "name": "ipython",
    "version": 3
   },
   "file_extension": ".py",
   "mimetype": "text/x-python",
   "name": "python",
   "nbconvert_exporter": "python",
   "pygments_lexer": "ipython3",
   "version": "3.6.5"
  }
 },
 "nbformat": 4,
 "nbformat_minor": 2
}
