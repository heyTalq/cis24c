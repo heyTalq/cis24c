{
 "cells": [
  {
   "cell_type": "code",
   "execution_count": 5,
   "metadata": {},
   "outputs": [
    {
     "name": "stdout",
     "output_type": "stream",
     "text": [
      "Enter nametiger\n",
      "Enter Acc Balance13\n",
      "Enter withdraw ammount10\n",
      "Enter overdraft protetion (True/False)False\n",
      "User has suff. balance to withdraw\n"
     ]
    }
   ],
   "source": [
    "userName = input(\"Enter name\")\n",
    "userAccBalance = int(input(\"Enter Acc Balance\"))\n",
    "userWithdraw = int(input(\"Enter withdraw ammount\"))\n",
    "userOverdraft = input(\"Enter overdraft protetion (True/False)\")\n",
    "\n",
    "if userAccBalance >= userWithdraw:\n",
    "    print(\"User has suff. balance to withdraw\")\n",
    "elif userOverdraft == \"True\":\n",
    "    print(\"User %s has enabled overdraft\"  % (userName))\n",
    "else:\n",
    "    print (\"User %s has insuff. balance\"  % (userName))\n"
   ]
  },
  {
   "cell_type": "code",
   "execution_count": 6,
   "metadata": {},
   "outputs": [
    {
     "ename": "SyntaxError",
     "evalue": "invalid syntax (<ipython-input-6-896b010f66c9>, line 1)",
     "output_type": "error",
     "traceback": [
      "\u001b[0;36m  File \u001b[0;32m\"<ipython-input-6-896b010f66c9>\"\u001b[0;36m, line \u001b[0;32m1\u001b[0m\n\u001b[0;31m    list age = [4,3,2];\u001b[0m\n\u001b[0m           ^\u001b[0m\n\u001b[0;31mSyntaxError\u001b[0m\u001b[0;31m:\u001b[0m invalid syntax\n"
     ]
    }
   ],
   "source": [
    "list age = [4,3,2];\n"
   ]
  },
  {
   "cell_type": "code",
   "execution_count": 8,
   "metadata": {},
   "outputs": [
    {
     "name": "stdout",
     "output_type": "stream",
     "text": [
      "121\n",
      "32\n",
      "12\n",
      "31\n",
      "23\n"
     ]
    }
   ],
   "source": [
    "for index in [121,32,12,31,23]:\n",
    "    print (index)"
   ]
  },
  {
   "cell_type": "code",
   "execution_count": 9,
   "metadata": {},
   "outputs": [
    {
     "name": "stdout",
     "output_type": "stream",
     "text": [
      "0\n",
      "3\n",
      "6\n",
      "9\n"
     ]
    }
   ],
   "source": [
    "for i in range(0, 10, 3):\n",
    "    print(i)"
   ]
  },
  {
   "cell_type": "code",
   "execution_count": 11,
   "metadata": {},
   "outputs": [
    {
     "data": {
      "text/plain": [
       "67.0"
      ]
     },
     "execution_count": 11,
     "metadata": {},
     "output_type": "execute_result"
    }
   ],
   "source": [
    "ages = [23,123,123,54,36,23,87]\n",
    "totalage = 0\n",
    "for index in range(len(ages)):\n",
    "    totalage += ages[index]\n",
    "average = totalage/len(ages)\n",
    "average"
   ]
  },
  {
   "cell_type": "code",
   "execution_count": 12,
   "metadata": {},
   "outputs": [
    {
     "data": {
      "text/plain": [
       "[23, 123, 123, 54, 36, 23, 87]"
      ]
     },
     "execution_count": 12,
     "metadata": {},
     "output_type": "execute_result"
    }
   ],
   "source": [
    "ages"
   ]
  },
  {
   "cell_type": "code",
   "execution_count": 15,
   "metadata": {},
   "outputs": [
    {
     "name": "stdout",
     "output_type": "stream",
     "text": [
      "User Age:23\n",
      "found\n"
     ]
    }
   ],
   "source": [
    "userAge = int(input(\"User Age:\"))\n",
    "index = 0\n",
    "while index < len(ages):\n",
    "    if userAge == ages[index]:\n",
    "        print(\"found\")\n",
    "        break\n",
    "    index += 1\n",
    "if index == len(ages):\n",
    "    print(\"not found\")"
   ]
  },
  {
   "cell_type": "code",
   "execution_count": 19,
   "metadata": {},
   "outputs": [
    {
     "name": "stdout",
     "output_type": "stream",
     "text": [
      "fail\n"
     ]
    }
   ],
   "source": [
    "score = 79\n",
    "if score < 80:\n",
    "    print(\"fail\")\n",
    "else:\n",
    "    if score >= 90:\n",
    "        print(\"A\")\n",
    "    else:\n",
    "        print(\"B\")\n"
   ]
  },
  {
   "cell_type": "code",
   "execution_count": 21,
   "metadata": {},
   "outputs": [
    {
     "name": "stdout",
     "output_type": "stream",
     "text": [
      "Enter int3\n"
     ]
    },
    {
     "data": {
      "text/plain": [
       "369"
      ]
     },
     "execution_count": 21,
     "metadata": {},
     "output_type": "execute_result"
    }
   ],
   "source": [
    "n = input(\"Enter int\")\n",
    "sum = 0\n",
    "tempN = n\n",
    "for i in range(3):\n",
    "    sum += int(tempN)\n",
    "    tempN += n\n",
    "sum\n"
   ]
  },
  {
   "cell_type": "code",
   "execution_count": null,
   "metadata": {},
   "outputs": [],
   "source": []
  }
 ],
 "metadata": {
  "kernelspec": {
   "display_name": "Python 3",
   "language": "python",
   "name": "python3"
  },
  "language_info": {
   "codemirror_mode": {
    "name": "ipython",
    "version": 3
   },
   "file_extension": ".py",
   "mimetype": "text/x-python",
   "name": "python",
   "nbconvert_exporter": "python",
   "pygments_lexer": "ipython3",
   "version": "3.6.5"
  }
 },
 "nbformat": 4,
 "nbformat_minor": 2
}
