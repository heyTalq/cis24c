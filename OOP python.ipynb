{
 "cells": [
  {
   "cell_type": "code",
   "execution_count": 79,
   "metadata": {},
   "outputs": [],
   "source": [
    "class Employee(object):\n",
    "    taxRate = 0.3\n",
    "    def __init__(self,id,name,dept,salary):\n",
    "        self.id = id\n",
    "        self.name = name\n",
    "        self.dept = dept\n",
    "        self.salary = salary\n",
    "    def setId(self,id):\n",
    "        self.id = id\n",
    "    def setName(self,name):\n",
    "        self.name = name\n",
    "    def setDept(self,dept):\n",
    "        self.dept = dept\n",
    "    def setSalary(self,salary):\n",
    "        self.salary = salary\n",
    "    def printDetails(self):\n",
    "        print(self.id)\n",
    "        print(self.name)\n",
    "        print(self.dept)\n",
    "        print(self.salary)\n",
    "    def printReport(self):\n",
    "        self.printDetails()\n",
    "        \n",
    "        #computte tax \n",
    "        tax = self.salary * Employee.taxRate\n",
    "        netSalary = self.salary - tax\n",
    "    \n",
    "        print(\"Tax:\", tax)\n",
    "        print(\"Net Salary:\", netSalary)\n",
    "        \n",
    "        "
   ]
  },
  {
   "cell_type": "code",
   "execution_count": 43,
   "metadata": {},
   "outputs": [],
   "source": [
    "emp1 = Employee(123,\"hello\",\"yeet\",123)"
   ]
  },
  {
   "cell_type": "code",
   "execution_count": 44,
   "metadata": {},
   "outputs": [],
   "source": [
    "emp1.setId(1231)\n",
    "emp1.setSalary(999)"
   ]
  },
  {
   "cell_type": "code",
   "execution_count": 27,
   "metadata": {},
   "outputs": [
    {
     "data": {
      "text/plain": [
       "999"
      ]
     },
     "execution_count": 27,
     "metadata": {},
     "output_type": "execute_result"
    }
   ],
   "source": [
    "emp1.id\n",
    "emp1.salary\n"
   ]
  },
  {
   "cell_type": "code",
   "execution_count": 88,
   "metadata": {},
   "outputs": [
    {
     "name": "stdout",
     "output_type": "stream",
     "text": [
      "1\n",
      "Bob\n",
      "Computer Science\n",
      "10000\n",
      "Tax: 3000.0\n",
      "Net Salary: 7000.0\n",
      "None\n",
      "2\n",
      "Bob2\n",
      "Computer Science\n",
      "10000\n",
      "Tax: 3000.0\n",
      "Net Salary: 7000.0\n",
      "None\n",
      "3\n",
      "Bob3\n",
      "Computer Science\n",
      "10000\n",
      "Tax: 3000.0\n",
      "Net Salary: 7000.0\n",
      "None\n",
      "4\n",
      "Bob4\n",
      "Computer Science\n",
      "10000\n",
      "Tax: 3000.0\n",
      "Net Salary: 7000.0\n",
      "None\n",
      "5\n",
      "Bob5\n",
      "Computer Science\n",
      "10000\n",
      "Tax: 3000.0\n",
      "Net Salary: 7000.0\n",
      "None\n",
      "6\n",
      "Harry1\n",
      "Science\n",
      "100008\n",
      "Tax: 30002.399999999998\n",
      "Net Salary: 70005.6\n",
      "None\n",
      "7\n",
      "Harry2\n",
      "Science\n",
      "100007\n",
      "Tax: 30002.1\n",
      "Net Salary: 70004.9\n",
      "None\n",
      "8\n",
      "Harry3\n",
      "Science\n",
      "100005\n",
      "Tax: 30001.5\n",
      "Net Salary: 70003.5\n",
      "None\n",
      "9\n",
      "Harry4\n",
      "Science\n",
      "100003\n",
      "Tax: 30000.899999999998\n",
      "Net Salary: 70002.1\n",
      "None\n",
      "10\n",
      "Harr5\n",
      "Science\n",
      "100002\n",
      "Tax: 30000.6\n",
      "Net Salary: 70001.4\n",
      "None\n",
      "11\n",
      "Mary\n",
      "Science\n",
      "100000\n",
      "Tax: 30000.0\n",
      "Net Salary: 70000.0\n",
      "None\n"
     ]
    }
   ],
   "source": [
    "empFile = open(\"employees.txt\")\n",
    "\n",
    "empFile.readline()\n",
    "\n",
    "employees = []\n",
    "for line in empFile:\n",
    "    tokens = line.split(\",\")\n",
    "    employee = Employee(tokens[0],tokens[1],tokens[2],int(tokens[3]))\n",
    "    employees.append(employee)\n",
    "\n",
    "for employee in employees:\n",
    "    print(employee.printReport())"
   ]
  },
  {
   "cell_type": "code",
   "execution_count": 60,
   "metadata": {},
   "outputs": [],
   "source": [
    "emp1 = Employee(123,\"hello\",\"yeet\",123, 0.3)"
   ]
  },
  {
   "cell_type": "code",
   "execution_count": 61,
   "metadata": {},
   "outputs": [
    {
     "name": "stdout",
     "output_type": "stream",
     "text": [
      "123\n",
      "hello\n",
      "yeet\n",
      "123\n",
      "Tax: 36.9\n",
      "Net Salary: 86.1\n"
     ]
    }
   ],
   "source": [
    "emp1.printReport()"
   ]
  },
  {
   "cell_type": "code",
   "execution_count": 99,
   "metadata": {},
   "outputs": [],
   "source": [
    "class Employee(object):\n",
    "    taxRate = 0.3\n",
    "    def __init__(self,id,name,dept,salary):\n",
    "        self.id = id\n",
    "        self.name = name\n",
    "        self.dept = dept\n",
    "        self.salary = salary\n",
    "    def setId(self,id):\n",
    "        self.id = id\n",
    "    def setName(self,name):\n",
    "        self.name = name\n",
    "    def setDept(self,dept):\n",
    "        self.dept = dept\n",
    "    def setSalary(self,salary):\n",
    "        self.salary = salary\n",
    "    def printDetails(self):\n",
    "        print(self.id)\n",
    "        print(self.name)\n",
    "        print(self.dept)\n",
    "        print(self.salary)\n",
    "        \n",
    "    def __str__(self):\n",
    "        result = str(self.id) + \"\\n\" + self.name + \"\\n\" \n",
    "        return result\n",
    "    def __int__(self):\n",
    "        return self.id + self.id\n",
    "        \n",
    "        \n",
    "        \n",
    "    def printReport(self):\n",
    "        self.printDetails()\n",
    "        \n",
    "        #computte tax \n",
    "        tax = self.salary * Employee.taxRate\n",
    "        netSalary = self.salary - tax\n",
    "    \n",
    "        print(\"Tax:\", tax)\n",
    "        print(\"Net Salary:\", netSalary)\n",
    "        \n",
    "        "
   ]
  },
  {
   "cell_type": "code",
   "execution_count": 101,
   "metadata": {},
   "outputs": [],
   "source": [
    "emp1 = Employee(123,\"hello\",\"yeet\",123)"
   ]
  },
  {
   "cell_type": "code",
   "execution_count": 112,
   "metadata": {},
   "outputs": [],
   "source": [
    "import math\n",
    "\n",
    "class circle(object):\n",
    "    def __init__(self,area):\n",
    "        \n",
    "        self.area = area\n",
    "    def __str__(self):\n",
    "    \n",
    "        radius = math.sqrt(self.area/math.pi)\n",
    "        return(str(self.area) + \"\\n\" + str(radius))\n",
    "    def __add__(self,other):\n",
    "        \n",
    "        newCircle = circle(self.area + other.area)\n",
    "        return newCircle"
   ]
  },
  {
   "cell_type": "markdown",
   "metadata": {},
   "source": [
    "c1 = circle(math.pi"
   ]
  },
  {
   "cell_type": "code",
   "execution_count": 115,
   "metadata": {},
   "outputs": [
    {
     "name": "stdout",
     "output_type": "stream",
     "text": [
      "6.141592653589793\n",
      "1.398187991134015\n"
     ]
    }
   ],
   "source": [
    "c1 = circle(math.pi)\n",
    "c2 = circle(3)\n",
    "\n",
    "print(c1 + c2)"
   ]
  },
  {
   "cell_type": "code",
   "execution_count": null,
   "metadata": {},
   "outputs": [],
   "source": []
  }
 ],
 "metadata": {
  "kernelspec": {
   "display_name": "Python 3",
   "language": "python",
   "name": "python3"
  },
  "language_info": {
   "codemirror_mode": {
    "name": "ipython",
    "version": 3
   },
   "file_extension": ".py",
   "mimetype": "text/x-python",
   "name": "python",
   "nbconvert_exporter": "python",
   "pygments_lexer": "ipython3",
   "version": "3.6.5"
  }
 },
 "nbformat": 4,
 "nbformat_minor": 2
}
