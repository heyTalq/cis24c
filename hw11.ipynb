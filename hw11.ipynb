{
 "cells": [
  {
   "cell_type": "markdown",
   "metadata": {},
   "source": [
    "\n",
    "# CIS024C - Summer 2018\n",
    "\n",
    "## Homework 11\n",
    "\n",
    "Homework 11 covers object oriented programming in Python\n",
    "\n",
    "The below sites have some interesting and useful information on working with files\n",
    "\n",
    "https://drive.google.com/open?id=1OrcpXEmhvgcJxSlchIBsvmXST0lG_uKx\n",
    "http://www.tutorialspoint.com/python/python_classes_objects.htm\n",
    "\n",
    "You will need to download this notebook and use this as a starting point for your homework. You will just need to fill in the content of each code-block (cell) and execute. Once you have completed all the exercises, you will need to save and upload this to your github repository under a folder called hw10.\n",
    "\n",
    "Note also the exercises build on top of one another so you might be able to do the next exercise if you have not completed the previous exercise.\n",
    "\n",
    "Post any questions you have on our Slack at **cis-024c1.slack.com**\n",
    "\n",
    "Slides\n",
    "\n",
    "https://docs.google.com/presentation/d/1AigvCKV1yb3PrrcT5xt3IqyAwGpv6IKMNWYUiQ2Oy6k/edit?usp=sharing\n",
    "\n",
    "**Please refer back to hw1 and slack for instructions on how to setup your computer for developing using Python.**"
   ]
  },
  {
   "cell_type": "markdown",
   "metadata": {},
   "source": [
    "### Helpful Jupyter Commands\n",
    "\n",
    "Below are some useful commands to know when using Jupyter\n",
    "\n",
    "1. You can add a new cell by clicking on the \"+\" icon on top.\n",
    "2. You can delete a cell by selecting that cell and clicking on the \"scissors\" icon on top.\n",
    "3. You can execute a cell by either pressing shift+enter or selecting the \"play\" button on top.\n",
    "4. You can create a new file in Jupyter via the File menu->New Notebook option. Make sure to select Python 2 when creating your notebook.\n",
    "5. Also, for your code blocks make sure that Code is selected instead of another option like Markdown.\n",
    "6. Use the Enter key to go to the next line in a cell to enter the next statement.\n",
    "7. You can clear results by clicking on the Cell menu item and selecting Current Output->Clear or All Output->Clear depending on whether you are trying to just clear the output for one cell or for all cells.\n",
    "8. In case your program has crashed for some reason (infinite loop, for example), you can restart your Python session by select Kernel in the menu and selecting Restart.\n"
   ]
  },
  {
   "cell_type": "markdown",
   "metadata": {},
   "source": [
    "#### Check Python Version"
   ]
  },
  {
   "cell_type": "code",
   "execution_count": null,
   "metadata": {},
   "outputs": [],
   "source": [
    "!python --version"
   ]
  },
  {
   "cell_type": "markdown",
   "metadata": {},
   "source": [
    "**Exercise 1 - Testing your knowledge of object oriented programming concepts **\n",
    "\n",
    "Answer the below questions\n",
    "\n",
    "1. Why do we need classes?\n",
    "2. What is encapsulation?"
   ]
  },
  {
   "cell_type": "markdown",
   "metadata": {},
   "source": [
    "<< Double click this cell and enter your result >>\n",
    "1. Classes are the blueprint for the objects that are instatiated, they provide the methods and attributes and within them, the logic.\n",
    "2. Encapsulation the is process of hiding away details outside of the class. This can be achieved with private variables. However, for the attributes that need to be accessed elsewhere, public getter and setters are used."
   ]
  },
  {
   "cell_type": "markdown",
   "metadata": {},
   "source": [
    "** Exercise 2 - Class creation **\n",
    "\n",
    "Create a Python class named **Employee** with the following attributes and methods\n",
    "\n",
    "Data members\n",
    "```\n",
    "1. employeeName  - type string\n",
    "2. employeeAge  - type int\n",
    "3. employeeSalary - type float\n",
    "```\n",
    "\n",
    "Methods:\n",
    "```\n",
    "1. getEmployee - returns employee name\n",
    "2. getEmployeeAge - gets the employee age\n",
    "3. getEmployeeSalary - returns the employee salary\n",
    "4. __init__ - initialize method accepts the name, age and salary of the employee\n",
    "```\n",
    "\n",
    "Create an object of type Employee and initialize with arbitrary values. Invoke the get methods and display the result."
   ]
  },
  {
   "cell_type": "code",
   "execution_count": 28,
   "metadata": {},
   "outputs": [],
   "source": [
    "### YOUR CODE GOES BELOW\n",
    "class Employee(object):\n",
    "    def __init__(self, name,age,sal):\n",
    "        self.employeeName = str(name)\n",
    "        self.employeeAge = int(age)\n",
    "        self.employeeSalary = float(sal)\n",
    "    \n",
    "    def getEmployee(self):\n",
    "        return str(self.employeeName)\n",
    "    def getEmployeeAge(self):\n",
    "        return int(self.employeeAge)\n",
    "    def getEmployeeSalary(self):\n",
    "        return float(self.employeeSalary)\n",
    "    \n",
    "\n",
    "### END CODE"
   ]
  },
  {
   "cell_type": "code",
   "execution_count": 29,
   "metadata": {},
   "outputs": [
    {
     "name": "stdout",
     "output_type": "stream",
     "text": [
      "Tiger\n",
      "20\n",
      "999.0\n"
     ]
    }
   ],
   "source": [
    "e1 = Employee(\"Tiger\",20,999)\n",
    "print(e1.getEmployee())\n",
    "print(e1.getEmployeeAge())\n",
    "print(e1.getEmployeeSalary())\n"
   ]
  },
  {
   "cell_type": "markdown",
   "metadata": {},
   "source": [
    "#### Exercise 3 - Private members\n",
    "\n",
    "In the above **Employee** class make the employeeName, employeeAge and employeeSalary private so that their access is restricted to only within the class."
   ]
  },
  {
   "cell_type": "code",
   "execution_count": 30,
   "metadata": {},
   "outputs": [],
   "source": [
    "### YOUR CODE GOES BELOW\n",
    "class Employee(object):\n",
    "    employeeName = \"\"\n",
    "    employeeAge = 0\n",
    "    employeeSalary = 0\n",
    "    def __init__(self, name,age,sal):\n",
    "        self.employeeName = str(name)\n",
    "        self.employeeAge = int(age)\n",
    "        self.employeeSalary = float(sal)\n",
    "    \n",
    "    def getEmployee(self):\n",
    "        return str(self.employeeName)\n",
    "    def getEmployeeAge(self):\n",
    "        return int(self.employeeAge)\n",
    "    def getEmployeeSalary(self):\n",
    "        return float(self.employeeSalary)\n",
    "    \n",
    "\n",
    "### END CODE"
   ]
  },
  {
   "cell_type": "markdown",
   "metadata": {},
   "source": [
    "#### Exercise 4 - Adding setters and working with a list of Employees\n",
    "\n",
    "In the **Employee** class add the following methods\n",
    "\n",
    "```\n",
    "1. setEmployeeAge - accepts age and sets it in the object\n",
    "2. setEmployeeName - accepts employee name and sets it in the object\n",
    "3. setEmployeeSalary - accepts employee salary and sets it i nthe object\n",
    "```\n",
    "\n",
    "Create a list of employees called employeeList. Initialize the list with three objects of type Employee. Initialize the object with the values \"None\" for employeeName, 0 for employeeAge and 0 for employeeSalary.\n",
    "\n",
    "Loop  through each employee in the employeeList. Each time, request the user to enter the name, age and salary of a different employee. Use the set methods to set the name, age and salary for each employee in the employeeList.\n",
    "\n",
    "Loop through each employee in the employeeList. Display the name, age and salary of each employee."
   ]
  },
  {
   "cell_type": "code",
   "execution_count": 36,
   "metadata": {},
   "outputs": [],
   "source": [
    "### YOUR CODE GOES BELOW\n",
    "\n",
    "class Employee(object):\n",
    "    employeeName = \"\"\n",
    "    employeeAge = 0\n",
    "    employeeSalary = 0\n",
    "    def __init__(self, name,age,sal):\n",
    "        self.employeeName = str(name)\n",
    "        self.employeeAge = int(age)\n",
    "        self.employeeSalary = float(sal)\n",
    "    \n",
    "    def getEmployee(self):\n",
    "        return str(self.employeeName)\n",
    "    def getEmployeeAge(self):\n",
    "        return int(self.employeeAge)\n",
    "    def getEmployeeSalary(self):\n",
    "        return float(self.employeeSalary)\n",
    "    def setEmployeeName(self,name):\n",
    "        self.employeeName = name\n",
    "    def setEmployeeAge(self,age):\n",
    "        self.employeeAge = age\n",
    "    def setEmployeeSalary(self,sal):\n",
    "        self.employeeSalary = sal \n",
    "        \n",
    "    \n",
    "### END CODE"
   ]
  },
  {
   "cell_type": "code",
   "execution_count": 38,
   "metadata": {},
   "outputs": [
    {
     "name": "stdout",
     "output_type": "stream",
     "text": [
      "nametiger\n",
      "age4\n",
      "sal4\n",
      "nameleon\n",
      "age3\n",
      "sal5\n",
      "nameeasdsa\n",
      "age4\n",
      "sal8\n",
      "tiger\n",
      "4\n",
      "4.0\n",
      "leon\n",
      "3\n",
      "5.0\n",
      "easdsa\n",
      "4\n",
      "8.0\n"
     ]
    }
   ],
   "source": [
    "employeeList = [Employee(None, 0,0),Employee(None, 0,0),Employee(None, 0,0)]\n",
    "for employee in employeeList:\n",
    "    name = input(\"name\")\n",
    "    employee.setEmployeeName(name)\n",
    "    age = input(\"age\")\n",
    "    employee.setEmployeeAge(age)\n",
    "    sal = input(\"sal\")\n",
    "    employee.setEmployeeSalary(sal)\n",
    "    \n",
    "for employee in employeeList:\n",
    "    print(employee.getEmployee())\n",
    "    print(employee.getEmployeeAge())\n",
    "    print(employee.getEmployeeSalary())\n",
    "    \n",
    "    "
   ]
  },
  {
   "cell_type": "markdown",
   "metadata": {},
   "source": [
    "#### Exercise 5 -  Creating a Python calculator class\n",
    "\n",
    "Create a Python class called Calculator. \n",
    "\n",
    "The class has the following data members\n",
    "\n",
    "```\n",
    "1. number1 - type float\n",
    "2. number2 - type float\n",
    "```\n",
    "\n",
    "The class must have the below methods\n",
    "\n",
    "```\n",
    "1. add - adds two numbers and returns the result\n",
    "2. subtract - subtracts the first number from the second number and returns the result\n",
    "3. multiply - multiply two numbers and returns the result\n",
    "4. divide - divide the first number by the second number and returns the result\n",
    "5. __init__ - accepts two numbers and uses those numbers to initialize number1 and number2 respectively\n",
    "```\n",
    "\n",
    "Create an object of the Calculator class. Initialize it with any two arbitrary numbers. Invoke the methods add, subtract, multiple and divide and display the result\n",
    "\n",
    "\n"
   ]
  },
  {
   "cell_type": "code",
   "execution_count": 41,
   "metadata": {},
   "outputs": [],
   "source": [
    "### YOUR CODE GOES \n",
    "class Calculator(object):\n",
    "    \n",
    "    def __init__(self, x , y):\n",
    "        self.x = float(x)\n",
    "        self.y = float(y)\n",
    "        \n",
    "    def add(self):\n",
    "        return self.x + self.y\n",
    "    \n",
    "    def subtract(self):\n",
    "        return self.x - self.y\n",
    "    def multiply(self):\n",
    "        return self.x*self.y\n",
    "    def divide(self):\n",
    "        return self.x/self.y\n",
    "\n",
    "### END CODE"
   ]
  },
  {
   "cell_type": "code",
   "execution_count": 45,
   "metadata": {},
   "outputs": [
    {
     "name": "stdout",
     "output_type": "stream",
     "text": [
      "9.0 -1.0 20.0 0.8\n"
     ]
    }
   ],
   "source": [
    "calc = Calculator(4,5)\n",
    "print(calc.add()\n",
    ",calc.subtract()\n",
    ",calc.multiply()\n",
    ",calc.divide())"
   ]
  },
  {
   "cell_type": "markdown",
   "metadata": {},
   "source": [
    "# Optional Exercise"
   ]
  },
  {
   "cell_type": "markdown",
   "metadata": {},
   "source": [
    "#### Exercise 6"
   ]
  },
  {
   "cell_type": "markdown",
   "metadata": {
    "collapsed": true
   },
   "source": [
    "In the next two problems, you’ll be building an address book using object-­‐oriented programming in Python. To begin, you’ll define a Person class. You’ll use this class in the next problem to build your address book – each entry in your address book will be an instance of the Person class.\n",
    "\n",
    "To begin, define the    init    and    str    methods for the Person class. Read the Python documentation if needed to help you understand what    init__ and    str \t need to do.\n",
    "\n",
    "Here’s an example interaction in the Python shell demonstrating how your class should work after implementing these two methods:"
   ]
  },
  {
   "cell_type": "raw",
   "metadata": {},
   "source": [
    "Emily = Person(“Zhang”, “Emily”, “5559358150”, “emzhang@mit.edu”)\n",
    "print Emily\n",
    "Zhang, Emily -- Phone Number: 5559358150 -- Email Address(es): emzhang@mit.edu\n",
    "Wesley = Person(“Graybill”, “Wesley”, “5551940325”, [‘wgray496@mit.edu’, ‘wdgraybill@gmail.com’])\n",
    "print Wesley\n",
    "Graybill, Wesley -- Phone Number: 5551940325 -- Email Address(es): wgray496@mit.edu, wdgraybill@gmail.com"
   ]
  },
  {
   "cell_type": "code",
   "execution_count": 177,
   "metadata": {},
   "outputs": [],
   "source": [
    "### YOUR CODE GOES \n",
    "class Person(object):\n",
    "    def __init__(self,lname,fname,num,email):\n",
    "        self.lname = lname\n",
    "        self.fname = fname\n",
    "        self.num = num\n",
    "        self.email = email\n",
    "    def getLname(self):\n",
    "        return self.lname\n",
    "    def getFname(self):\n",
    "        return self.fname\n",
    "    def __str__(self):\n",
    "        #email = (*self.email, sep = \", \")\n",
    "        if not isinstance(self.email, str):\n",
    "            email  = str(', '.join(self.email))\n",
    "        else:\n",
    "            email = self.email\n",
    "            #print(\"Yeet\" , type(email))\n",
    "        return str(self.lname+ \", \"+self.fname+ \" -- Phone Number: \"+ self.num+ \" -- Email Address(es): \" + email + \"\\n\")\n",
    "    \n",
    "\n",
    "### END CODE"
   ]
  },
  {
   "cell_type": "code",
   "execution_count": 166,
   "metadata": {},
   "outputs": [
    {
     "name": "stdout",
     "output_type": "stream",
     "text": [
      "Zhang, Emily -- Phone Number: 5559358150 -- Email Address(es): emzhang@mit.edu\n",
      "\n",
      "Graybill, Wesley -- Phone Number: 5551940325 -- Email Address(es): wgray496@mit.edu, wdgraybill@gmail.com\n",
      "\n"
     ]
    }
   ],
   "source": [
    "Emily = Person(\"Zhang\", \"Emily\", \"5559358150\", \"emzhang@mit.edu\")\n",
    "print(Emily)\n",
    "Wesley = Person(\"Graybill\", \"Wesley\", \"5551940325\", ['wgray496@mit.edu', 'wdgraybill@gmail.com'])\n",
    "print(Wesley)"
   ]
  },
  {
   "cell_type": "markdown",
   "metadata": {},
   "source": [
    "#### Exercise 7"
   ]
  },
  {
   "cell_type": "markdown",
   "metadata": {},
   "source": [
    "In this problem, you will use your Person class from the previous problem to create an address book for storing the contacts of your friends and family. It should allow you to search the address book for a friend, and return their contact information.\n",
    "\n",
    "Begin by defining an   init   method. Don’t forget about Python's built-­‐in dictionary data type.\n",
    "\n",
    "Next, write a method add_contact that allows you to add a new person to the address book.\n",
    "\n",
    "Finally, write a method lookup_contact that looks up a contact by last name. The method should accept the last name as an argument, and print each contact that matches the last name on a new line. As an additional challenge, extend this method to allow users to optionally specify a first name to narrow down the results when multiple contacts have the same last name. To learn more about optional arguments in Python, search for terms such as “optional arguments in Python” and “default arguments in Python”.\n",
    "\n",
    "For example, suppose the contact book contains entries for both Ali Kamil, and his wife Sama Kamil. The following is an example output:\n"
   ]
  },
  {
   "cell_type": "raw",
   "metadata": {},
   "source": [
    ">>> a = AddressBook()\n",
    ">>> a.add_person(Person(“Kamil”, “Ali”, … ))\n",
    ">>> a.add_person(Person(“Kamil”, “Sama”, … ))\n",
    ">>> a.lookup_contact(“Kamil”) Kamil, Ali -- Phone Number: … Kamil, Sama -- Phone Number: …\n",
    ">>> a.lookup_contact(“Kamil”, “Ali”)\n",
    "Kamil, Ali -- Phone Number: …\n"
   ]
  },
  {
   "cell_type": "code",
   "execution_count": 182,
   "metadata": {},
   "outputs": [],
   "source": [
    "### YOUR CODE GOES \n",
    "class AddressBook(object):\n",
    "    def __init__(self):\n",
    "        self.dic = {}\n",
    "        \n",
    "    def addContact(self,person):\n",
    "        #fullname = [person.getLname(),person.getFname()]\n",
    "        if self.dic.get(person.getLname()) == None:\n",
    "            self.dic[person.getLname()] = [person]\n",
    "        else:\n",
    "            self.dic[person.getLname()].append(person)\n",
    "        \n",
    "    def lookup(self,lname,fname = None):\n",
    "        if(self.dic.get(lname) != None and fname == None):\n",
    "            posPeople = []\n",
    "            for i in range(len(self.dic.get(lname))):\n",
    "                posPeople.append((str(self.dic[lname][i])))\n",
    "            for i in range(len(posPeople)):\n",
    "                print(posPeople[i])\n",
    "        elif(self.dic.get(lname) != None and fname != None):\n",
    "            posPeople = []\n",
    "            for i in range(len(self.dic.get(lname))):\n",
    "                 if(self.dic.get(lname)[i].getFname() == fname):\n",
    "                    posPeople.append((str(self.dic[lname][i])))\n",
    "            for i in range(len(posPeople)):\n",
    "                print(posPeople[i])\n",
    "        else:\n",
    "            print(\"Person not in this book\\n\")\n",
    "\n",
    "### END CODE"
   ]
  },
  {
   "cell_type": "code",
   "execution_count": 187,
   "metadata": {},
   "outputs": [
    {
     "name": "stdout",
     "output_type": "stream",
     "text": [
      "Zhang, Emily -- Phone Number: 5559358150 -- Email Address(es): emzhang@mit.edu\n",
      "\n"
     ]
    }
   ],
   "source": [
    "a = AddressBook()\n",
    "Emily = Person(\"Zhang\", \"Emily\", \"5559358150\", \"emzhang@mit.edu\")\n",
    "a.addContact(Emily)\n",
    "#a.lookup(\"Zhang\")\n",
    "a.addContact(Person(\"Zhang\", \"YEET\", \"5559358150\", \"emzhang@mit.edu\"))\n",
    "a.lookup(\"Zhang\",\"Emily\")\n"
   ]
  },
  {
   "cell_type": "code",
   "execution_count": null,
   "metadata": {},
   "outputs": [],
   "source": []
  }
 ],
 "metadata": {
  "kernelspec": {
   "display_name": "Python 3",
   "language": "python",
   "name": "python3"
  },
  "language_info": {
   "codemirror_mode": {
    "name": "ipython",
    "version": 3
   },
   "file_extension": ".py",
   "mimetype": "text/x-python",
   "name": "python",
   "nbconvert_exporter": "python",
   "pygments_lexer": "ipython3",
   "version": "3.6.5"
  }
 },
 "nbformat": 4,
 "nbformat_minor": 2
}
